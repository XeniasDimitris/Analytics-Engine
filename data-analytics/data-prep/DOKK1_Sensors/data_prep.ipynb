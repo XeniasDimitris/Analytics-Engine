{
 "cells": [
  {
   "cell_type": "code",
   "execution_count": 12,
   "metadata": {},
   "outputs": [],
   "source": [
    "import pandas as pd\n",
    "columns = [1, 4, 5, 6, 7]\n",
    "df = pd.read_csv('DOKK1_Sensors.csv').rename(columns={'date': 'datetime'})\n",
    "df['datetime_pd'] = pd.to_datetime(df['datetime'], infer_datetime_format=True)"
   ]
  },
  {
   "cell_type": "code",
   "execution_count": 13,
   "metadata": {},
   "outputs": [
    {
     "name": "stdout",
     "output_type": "stream",
     "text": [
      "_id             False\n",
      "datetime        False\n",
      "sensor          False\n",
      "temperature     False\n",
      "humidity        False\n",
      "co2             False\n",
      "voc             False\n",
      "light_level     False\n",
      "light_colour    False\n",
      "sound           False\n",
      "sound_low       False\n",
      "sound_high      False\n",
      "occupancy       False\n",
      "voltage         False\n",
      "rssi            False\n",
      "datetime_pd     False\n",
      "dtype: bool\n"
     ]
    }
   ],
   "source": [
    "# Checking NaN values -> False\n",
    "print(df.isnull().any())\n"
   ]
  },
  {
   "cell_type": "code",
   "execution_count": null,
   "metadata": {},
   "outputs": [],
   "source": []
  }
 ],
 "metadata": {
  "kernelspec": {
   "display_name": "Python 3",
   "language": "python",
   "name": "python3"
  },
  "language_info": {
   "codemirror_mode": {
    "name": "ipython",
    "version": 3
   },
   "file_extension": ".py",
   "mimetype": "text/x-python",
   "name": "python",
   "nbconvert_exporter": "python",
   "pygments_lexer": "ipython3",
   "version": "3.8.5"
  }
 },
 "nbformat": 4,
 "nbformat_minor": 4
}
