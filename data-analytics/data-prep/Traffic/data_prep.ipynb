{
 "cells": [
  {
   "cell_type": "code",
   "execution_count": null,
   "metadata": {},
   "outputs": [],
   "source": [
    "import pandas as pd"
   ]
  },
  {
   "cell_type": "markdown",
   "metadata": {},
   "source": [
    "## Checking Traffic Meta file for NaN values and trying to infer missing values"
   ]
  },
  {
   "cell_type": "code",
   "execution_count": null,
   "metadata": {},
   "outputs": [],
   "source": [
    "#Checking if NaN values exist and print rows with missing values\n",
    "df = pd.read_csv(f'trafficMetaData.csv' )\n",
    "pd.options.display.float_format = \"{:,.15f}\".format\n",
    "# print(df.columns)\n",
    "# print(df.dtypes)\n",
    "print(df.isna().sum())\n",
    "print(df.loc[df.isna().any(axis=1), ['POINT_1_STREET','POINT_2_STREET','POINT_1_LNG', 'POINT_1_LAT',  'POINT_2_LNG', 'POINT_2_LAT',]])\n"
   ]
  },
  {
   "cell_type": "code",
   "execution_count": null,
   "metadata": {},
   "outputs": [],
   "source": [
    "# trying to infer above missing values from other records\n",
    "print(df.loc[((df['POINT_1_LNG']==10.21197608217426) | (df['POINT_2_LNG']==10.21197608217426)) ,['POINT_1_STREET','POINT_2_STREET','POINT_1_LNG', 'POINT_1_LAT',  'POINT_2_LNG', 'POINT_2_LAT',]])"
   ]
  },
  {
   "cell_type": "code",
   "execution_count": null,
   "metadata": {},
   "outputs": [],
   "source": [
    "# Replace missing value\n",
    "df['POINT_2_STREET'] = df['POINT_2_STREET'].fillna(df.loc[20,'POINT_1_STREET'])"
   ]
  },
  {
   "cell_type": "code",
   "execution_count": null,
   "metadata": {},
   "outputs": [],
   "source": [
    "# trying to infer above missing values from other records\n",
    "print(df.loc[((df['POINT_1_LNG']==10.192906038028696) | (df['POINT_2_LNG']==10.192906038028696)) ,['POINT_1_STREET','POINT_2_STREET','POINT_1_LNG', 'POINT_1_LAT',  'POINT_2_LNG', 'POINT_2_LAT',]])"
   ]
  },
  {
   "cell_type": "code",
   "execution_count": null,
   "metadata": {},
   "outputs": [],
   "source": [
    "# Replace missing value\n",
    "df['POINT_1_STREET'] = df['POINT_1_STREET'].fillna(df.loc[121,'POINT_1_STREET'])"
   ]
  },
  {
   "cell_type": "code",
   "execution_count": null,
   "metadata": {},
   "outputs": [],
   "source": [
    "# Ensure we dont have any missing values\n",
    "df.isna().any()"
   ]
  },
  {
   "cell_type": "markdown",
   "metadata": {},
   "source": [
    "## Checking if we can resolve street '15' from other records but we cant find one"
   ]
  },
  {
   "cell_type": "code",
   "execution_count": null,
   "metadata": {},
   "outputs": [],
   "source": [
    "df = pd.read_csv(f'trafficMetaDataNoNAN.csv', )\n",
    "pd.options.display.float_format = \"{:,.15f}\".format\n",
    "print(df.loc[((df['POINT_1_STREET']=='15') | (df['POINT_2_STREET']=='15')),['POINT_1_STREET','POINT_2_STREET','POINT_1_LNG', 'POINT_1_LAT',  'POINT_2_LNG', 'POINT_2_LAT',]])\n",
    "print('------------------------------------')\n",
    "print('------------------------------------')\n",
    "print(df.loc[((df['POINT_1_LNG']==10.144907008598352) | (df['POINT_2_LNG']==10.144907008598352)),['POINT_1_STREET','POINT_2_STREET','POINT_1_LNG', 'POINT_1_LAT',  'POINT_2_LNG', 'POINT_2_LAT',]])\n",
    "print('------------------------------------')\n",
    "print('------------------------------------')\n",
    "print(df.loc[((df['POINT_1_LNG']==10.145073305557275) | (df['POINT_2_LNG']==10.145073305557275)),['POINT_1_STREET','POINT_2_STREET','POINT_1_LNG', 'POINT_1_LAT',  'POINT_2_LNG', 'POINT_2_LAT',]])"
   ]
  },
  {
   "cell_type": "markdown",
   "metadata": {},
   "source": [
    "## Check if we have all the unique REPORT_ID files that are exist as report_id key in meta file"
   ]
  },
  {
   "cell_type": "code",
   "execution_count": 22,
   "metadata": {},
   "outputs": [],
   "source": [
    "# If open fails, we know that we don't have all needed files\n",
    "path = '/home/dimitris/Desktop/DiplomaThesis/Datasets/Aarhus/Traffic/citypulse_traffic_raw_data_aarhus_aug_sep_2014/traffic_june_sep'\n",
    "df = pd.read_csv(f'./trafficMetaDataNoNAN.csv', )\n",
    "res = df['REPORT_ID'].to_dict()\n",
    "for x in res:\n",
    "    with open(f'{path}/trafficData{res[x]}.csv') as f:\n",
    "        continue"
   ]
  },
  {
   "cell_type": "markdown",
   "metadata": {},
   "source": [
    "## Check the relation between polltuion long lat and TrafficMetaData (with key the REPORT_ID attribute)"
   ]
  },
  {
   "cell_type": "code",
   "execution_count": 24,
   "metadata": {},
   "outputs": [],
   "source": [
    "path = '/home/dimitris/Desktop/DiplomaThesis/Datasets/Aarhus/Pollution/pollution/'\n",
    "df = pd.read_csv(f'./trafficMetaDataNoNAN.csv', )\n",
    "res = df[['REPORT_ID','POINT_1_LNG']].to_dict('records')\n",
    "arr=[]\n",
    "havevisited=[]\n",
    "for item in res:\n",
    "    with open(f'{path}pollutionData{item[\"REPORT_ID\"]}.csv') as f:\n",
    "            f.readline()\n",
    "            lng = f.readline().split(',')[5]\n",
    "            lat = f.readline().split(',')[6]\n",
    "            if lng+lat not in havevisited:\n",
    "                arr.append({'longtitude': lng,'latitude': lat,'report_id': item[\"REPORT_ID\"]})\n",
    "            else:\n",
    "                print('oups')"
   ]
  },
  {
   "cell_type": "code",
   "execution_count": null,
   "metadata": {},
   "outputs": [],
   "source": []
  }
 ],
 "metadata": {
  "kernelspec": {
   "display_name": "Python 3",
   "language": "python",
   "name": "python3"
  },
  "language_info": {
   "codemirror_mode": {
    "name": "ipython",
    "version": 3
   },
   "file_extension": ".py",
   "mimetype": "text/x-python",
   "name": "python",
   "nbconvert_exporter": "python",
   "pygments_lexer": "ipython3",
   "version": "3.8.5"
  }
 },
 "nbformat": 4,
 "nbformat_minor": 4
}
