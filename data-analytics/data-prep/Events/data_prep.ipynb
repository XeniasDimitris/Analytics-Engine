{
 "cells": [
  {
   "cell_type": "code",
   "execution_count": 14,
   "metadata": {},
   "outputs": [],
   "source": [
    "import pandas as pd\n",
    "df = pd.read_csv(\"aarhus_libraryEvents.csv\")\n",
    "df['start_datetime_pd'] = pd.to_datetime(df['starttime'], infer_datetime_format=True)\n",
    "df['end_datetime_pd'] = pd.to_datetime(df['endtime'], infer_datetime_format=True)\n",
    "#print(df)"
   ]
  },
  {
   "cell_type": "code",
   "execution_count": 15,
   "metadata": {},
   "outputs": [
    {
     "name": "stdout",
     "output_type": "stream",
     "text": [
      "lid                  False\n",
      "city                 False\n",
      "endtime              False\n",
      "title                False\n",
      "url                  False\n",
      "price                False\n",
      "changed              False\n",
      "content               True\n",
      "zipcode              False\n",
      "library              False\n",
      "imageurl             False\n",
      "teaser               False\n",
      "street               False\n",
      "status               False\n",
      "longitude            False\n",
      "starttime            False\n",
      "latitude             False\n",
      "_id                  False\n",
      "id                   False\n",
      "streamtime           False\n",
      "start_datetime_pd    False\n",
      "end_datetime_pd      False\n",
      "dtype: bool\n",
      "lid                   0\n",
      "city                  0\n",
      "endtime               0\n",
      "title                 0\n",
      "url                   0\n",
      "price                 0\n",
      "changed               0\n",
      "content              30\n",
      "zipcode               0\n",
      "library               0\n",
      "imageurl              0\n",
      "teaser                0\n",
      "street                0\n",
      "status                0\n",
      "longitude             0\n",
      "starttime             0\n",
      "latitude              0\n",
      "_id                   0\n",
      "id                    0\n",
      "streamtime            0\n",
      "start_datetime_pd     0\n",
      "end_datetime_pd       0\n",
      "dtype: int64\n"
     ]
    }
   ],
   "source": [
    "#Check if there are NaN values\n",
    "print(df.isnull().any())\n",
    "#Count NaN values\n",
    "print(df.isnull().sum())"
   ]
  },
  {
   "cell_type": "code",
   "execution_count": 16,
   "metadata": {},
   "outputs": [],
   "source": [
    "# Replace NaN values ( content attribute -> -)\n",
    "df.fillna('-',inplace=True)"
   ]
  },
  {
   "cell_type": "code",
   "execution_count": null,
   "metadata": {},
   "outputs": [],
   "source": []
  },
  {
   "cell_type": "code",
   "execution_count": null,
   "metadata": {},
   "outputs": [],
   "source": []
  }
 ],
 "metadata": {
  "kernelspec": {
   "display_name": "Python 3",
   "language": "python",
   "name": "python3"
  },
  "language_info": {
   "codemirror_mode": {
    "name": "ipython",
    "version": 3
   },
   "file_extension": ".py",
   "mimetype": "text/x-python",
   "name": "python",
   "nbconvert_exporter": "python",
   "pygments_lexer": "ipython3",
   "version": "3.8.5"
  }
 },
 "nbformat": 4,
 "nbformat_minor": 4
}
