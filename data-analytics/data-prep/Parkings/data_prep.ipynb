{
 "cells": [
  {
   "cell_type": "code",
   "execution_count": null,
   "metadata": {},
   "outputs": [],
   "source": [
    "import pandas as pd\n",
    "#print(df.head().to_dict('records'))\n"
   ]
  },
  {
   "cell_type": "code",
   "execution_count": 18,
   "metadata": {},
   "outputs": [
    {
     "name": "stdout",
     "output_type": "stream",
     "text": [
      "garagecode     False\n",
      "city           False\n",
      "postalcode     False\n",
      "street         False\n",
      "housenumber     True\n",
      "latitude       False\n",
      "longitude      False\n",
      "dtype: bool\n",
      "garagecode     0\n",
      "city           0\n",
      "postalcode     0\n",
      "street         0\n",
      "housenumber    3\n",
      "latitude       0\n",
      "longitude      0\n",
      "dtype: int64\n"
     ]
    }
   ],
   "source": [
    "#Checking if parking_address file has NaN values -> True\n",
    "df1 = pd.read_csv('aarhus_parking_address.csv')\n",
    "print(df1.isnull().any())\n",
    "print(df1.isnull().sum())\n",
    "\n",
    "# Replace Nan values as 0, because otherwise we couldn't use json parsers.\n",
    "df1 = df1.fillna(0).astype({\"housenumber\": int})"
   ]
  },
  {
   "cell_type": "code",
   "execution_count": 20,
   "metadata": {},
   "outputs": [
    {
     "name": "stdout",
     "output_type": "stream",
     "text": [
      "vehiclecount    False\n",
      "datetime        False\n",
      "_id             False\n",
      "totalspaces     False\n",
      "garagecode      False\n",
      "streamtime      False\n",
      "datetime_pd     False\n",
      "dtype: bool\n",
      "vehiclecount    0\n",
      "datetime        0\n",
      "_id             0\n",
      "totalspaces     0\n",
      "garagecode      0\n",
      "streamtime      0\n",
      "datetime_pd     0\n",
      "dtype: int64\n"
     ]
    }
   ],
   "source": [
    "# Checking if parking records have NaN values -> False\n",
    "df2 = pd.read_csv('aarhus_parking.csv').rename(columns={'updatetime': 'datetime'})\n",
    "df2['datetime_pd'] = pd.to_datetime(df2['datetime'], infer_datetime_format=True)\n",
    "\n",
    "print(df2.isnull().any())\n",
    "print(df2.isnull().sum())"
   ]
  },
  {
   "cell_type": "code",
   "execution_count": 21,
   "metadata": {},
   "outputs": [
    {
     "name": "stdout",
     "output_type": "stream",
     "text": [
      "(8, 7) (55264, 7) (55264, 13)\n"
     ]
    }
   ],
   "source": [
    "# Check if inner join excludes some records -> False\n",
    "df = pd.merge(df2,df1,on='garagecode')\n",
    "print(df1.shape, df2.shape, df.shape)"
   ]
  },
  {
   "cell_type": "code",
   "execution_count": null,
   "metadata": {},
   "outputs": [],
   "source": []
  }
 ],
 "metadata": {
  "kernelspec": {
   "display_name": "Python 3",
   "language": "python",
   "name": "python3"
  },
  "language_info": {
   "codemirror_mode": {
    "name": "ipython",
    "version": 3
   },
   "file_extension": ".py",
   "mimetype": "text/x-python",
   "name": "python",
   "nbconvert_exporter": "python",
   "pygments_lexer": "ipython3",
   "version": "3.8.5"
  }
 },
 "nbformat": 4,
 "nbformat_minor": 4
}
