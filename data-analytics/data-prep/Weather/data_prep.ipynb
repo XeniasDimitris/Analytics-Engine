{
 "cells": [
  {
   "cell_type": "code",
   "execution_count": 7,
   "metadata": {},
   "outputs": [],
   "source": [
    "import pandas as pd\n",
    "import json\n",
    "files = ['dewptm','hum','pressurem','tempm','wdird', 'wspdm']"
   ]
  },
  {
   "cell_type": "code",
   "execution_count": 19,
   "metadata": {},
   "outputs": [
    {
     "name": "stdout",
     "output_type": "stream",
     "text": [
      "dewptm datetime    1\n",
      "value       1\n",
      "dtype: int64\n",
      "\n",
      "\n",
      "hum datetime    1\n",
      "value       1\n",
      "dtype: int64\n",
      "\n",
      "\n",
      "pressurem datetime    2\n",
      "value       2\n",
      "dtype: int64\n",
      "\n",
      "\n",
      "tempm datetime    1\n",
      "value       1\n",
      "dtype: int64\n",
      "\n",
      "\n",
      "wdird datetime    40\n",
      "value       40\n",
      "dtype: int64\n",
      "\n",
      "\n",
      "wspdm datetime    22\n",
      "value       22\n",
      "dtype: int64\n",
      "\n",
      "\n"
     ]
    }
   ],
   "source": [
    "#Change the data format to be usable for pandas Dataframe\n",
    "for file in files:\n",
    "    data = {'datetime': [], 'value': []}\n",
    "    with open(file+'.txt', 'r') as f:\n",
    "        for line in f:\n",
    "            dictionary = json.loads(line)\n",
    "            for key in dictionary:\n",
    "                if key == '':\n",
    "                    pass\n",
    "                elif dictionary[key] == '':\n",
    "                    data['datetime'].append(key)\n",
    "                    data['value'].append('')\n",
    "                else:\n",
    "                    data['datetime'].append(key)\n",
    "                    data['value'].append(float(dictionary[key]))\n",
    "        df = pd.DataFrame(data=data)\n",
    "        print(file,df.loc[df['value']==''].count())\n",
    "        print('\\n')"
   ]
  },
  {
   "cell_type": "code",
   "execution_count": null,
   "metadata": {},
   "outputs": [],
   "source": []
  }
 ],
 "metadata": {
  "kernelspec": {
   "display_name": "Python 3",
   "language": "python",
   "name": "python3"
  },
  "language_info": {
   "codemirror_mode": {
    "name": "ipython",
    "version": 3
   },
   "file_extension": ".py",
   "mimetype": "text/x-python",
   "name": "python",
   "nbconvert_exporter": "python",
   "pygments_lexer": "ipython3",
   "version": "3.8.5"
  }
 },
 "nbformat": 4,
 "nbformat_minor": 4
}
